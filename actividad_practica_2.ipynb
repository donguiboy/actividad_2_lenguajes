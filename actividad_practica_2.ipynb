{
  "nbformat": 4,
  "nbformat_minor": 0,
  "metadata": {
    "colab": {
      "provenance": []
    },
    "kernelspec": {
      "name": "python3",
      "display_name": "Python 3"
    },
    "language_info": {
      "name": "python"
    }
  },
  "cells": [
    {
      "cell_type": "markdown",
      "source": [
        "Enunciado\n",
        "Desarrollá un script o notebook que realice lo siguiente:\n",
        "1. Leer el archivo.\n",
        "2. Identificar el día de la semana de cada entrenamiento.\n",
        "3. Indicar cuál es el/los día/s de la semana que tienen más sesiones de entrenamiento.\n",
        "4. Cuántos días pasaron entre el primer y último entrenamiento.\n",
        "5. Mostrar el campeón que más entrenó.\n",
        "6. Promedio de entrenamientos por cada día de la semana.\n",
        "7. Campeón que más entrena los fines de semana (sábado y domingo).\n",
        "8. En una carpeta llamada salida, que se debe generar, crear un archivo .csv que para\n",
        "cada campeón muestre la cantidad de entrenamientos (indicar campeón y cantidad).\n",
        "9. Generar un archivo .json en la misma carpeta (salida) que indique el total de\n",
        "registros y para cada día, los campeones que entrenaron, junto con cuántas veces\n",
        "entrenó cada uno.\n",
        "\n",
        "*Idealmente recorrer el archivo 1 sola vez // tip de la profe: generar una funcion por cada row que se llaman desde el programa principal.*"
      ],
      "metadata": {
        "id": "Xh-5PiaYvm5J"
      }
    },
    {
      "cell_type": "code",
      "source": [
        "#imports\n",
        "from pathlib import Path\n",
        "from datetime import datetime\n",
        "import csv\n",
        "import json\n",
        "import os\n",
        "\n",
        "#configuracion.\n",
        "cwd = Path(\".\").resolve()\n",
        "route = Path(cwd, \"actividad_2.csv\")\n",
        "\n",
        "#variables principales\n",
        "contador_dia = {}\n",
        "primera_fecha = None\n",
        "ultima_fecha = None\n",
        "campeones = {}\n",
        "detalle_dias = {}\n",
        "total_registros = 0\n"
      ],
      "metadata": {
        "id": "wWBFqIFIvq8_"
      },
      "execution_count": 1,
      "outputs": []
    },
    {
      "cell_type": "code",
      "source": [
        "#funciones\n",
        "\n",
        "#Identificar el día de la semana\n",
        "def obtener_dia(fecha_texto):\n",
        "    fecha = datetime.strptime(fecha_texto, \"%Y-%m-%d %H:%M\")\n",
        "    dia = fecha.strftime(\"%A\")\n",
        "    return fecha, dia\n",
        "\n",
        "\n",
        "#Contar entrenamientos por día\n",
        "def contar_dias(dia_semana, contador_dia):\n",
        "    if dia_semana in contador_dia:\n",
        "        contador_dia[dia_semana] += 1\n",
        "    else:\n",
        "        contador_dia[dia_semana] = 1\n",
        "\n",
        "\n",
        "#Contar entrenamientos por campeón\n",
        "def contar_campeon(campeon, campeones):\n",
        "    if campeon not in campeones:\n",
        "        campeones[campeon] = {\"total\": 0, \"fin_de_semana\": 0}\n",
        "    campeones[campeon][\"total\"] += 1\n",
        "\n",
        "\n",
        "#Si es fin de semana, contar aparte\n",
        "def contar_finde(dia_semana, campeon, campeones):\n",
        "    if dia_semana == \"Saturday\" or dia_semana == \"Sunday\":\n",
        "        campeones[campeon][\"fin_de_semana\"] += 1\n",
        "\n",
        "\n",
        "#Actualizar fechas mínima y máxima\n",
        "def actualizar_fechas(fecha, primera_fecha, ultima_fecha):\n",
        "    if primera_fecha is None or fecha < primera_fecha:\n",
        "        primera_fecha = fecha\n",
        "    if ultima_fecha is None or fecha > ultima_fecha:\n",
        "        ultima_fecha = fecha\n",
        "    return primera_fecha, ultima_fecha\n",
        "\n",
        "\n",
        "# 6. Guardar info para el JSON\n",
        "def actualizar_detalle(dia_semana, campeon, detalle_dias):\n",
        "    if dia_semana not in detalle_dias:\n",
        "        detalle_dias[dia_semana] = {}\n",
        "    if campeon not in detalle_dias[dia_semana]:\n",
        "        detalle_dias[dia_semana][campeon] = 1\n",
        "    else:\n",
        "        detalle_dias[dia_semana][campeon] += 1\n",
        "\n",
        "\n",
        "# 7. Día/s con más entrenamientos\n",
        "def dias_max_sesiones(contador_dia):\n",
        "    maximo = max(contador_dia.values())\n",
        "    dias = []\n",
        "    for dia in contador_dia:\n",
        "        if contador_dia[dia] == maximo:\n",
        "            dias.append(dia)\n",
        "    return dias, maximo\n",
        "\n",
        "\n",
        "# 8. Campeón que más entrenó\n",
        "def campeon_max(campeones):\n",
        "    max_entrenamientos = 0\n",
        "    nombre = \"\"\n",
        "    for campeon in campeones:\n",
        "        if campeones[campeon][\"total\"] > max_entrenamientos:\n",
        "            max_entrenamientos = campeones[campeon][\"total\"]\n",
        "            nombre = campeon\n",
        "    return nombre, max_entrenamientos\n",
        "\n",
        "\n",
        "# 9. Campeón que más entrena fines de semana\n",
        "def campeon_max_finde(campeones):\n",
        "    max_finde = 0\n",
        "    nombre = \"\"\n",
        "    for campeon in campeones:\n",
        "        if campeones[campeon][\"fin_de_semana\"] > max_finde:\n",
        "            max_finde = campeones[campeon][\"fin_de_semana\"]\n",
        "            nombre = campeon\n",
        "    return nombre, max_finde\n",
        "\n",
        "\n",
        "# 10. Promedio de entrenamientos por día\n",
        "def promedio_dias(contador_dia):\n",
        "    total = sum(contador_dia.values())\n",
        "    promedios = {}\n",
        "    for dia in contador_dia:\n",
        "        promedios[dia] = round(contador_dia[dia] / total, 3)\n",
        "    return promedios\n",
        "\n",
        "\n",
        "# 11. Crear CSV en carpeta salida\n",
        "def generar_csv(campeones):\n",
        "    os.makedirs(\"salida\", exist_ok=True)\n",
        "    with open(\"salida/entrenamientos_por_campeon.csv\", \"w\", newline=\"\", encoding=\"utf-8\") as f:\n",
        "        writer = csv.writer(f)\n",
        "        writer.writerow([\"Campeon\", \"Cantidad\"])\n",
        "        for campeon in campeones:\n",
        "            writer.writerow([campeon, campeones[campeon][\"total\"]])\n",
        "\n",
        "\n",
        "# 12. Crear JSON en carpeta salida\n",
        "def generar_json(total, detalle_dias):\n",
        "    os.makedirs(\"salida\", exist_ok=True)\n",
        "    datos = {\n",
        "        \"total_registros\": total,\n",
        "        \"detalle_dias\": detalle_dias\n",
        "    }\n",
        "    with open(\"salida/resumen.json\", \"w\", encoding=\"utf-8\") as f:\n",
        "        json.dump(datos, f, indent=4, ensure_ascii=False)\n",
        "\n"
      ],
      "metadata": {
        "id": "vaepsW8KLMcR"
      },
      "execution_count": 2,
      "outputs": []
    },
    {
      "cell_type": "code",
      "source": [
        "#programa principal\n",
        "\n",
        "with open(route, \"r\", encoding=\"utf-8\") as archivo:\n",
        "    reader = csv.DictReader(archivo)\n",
        "\n",
        "    for row in reader:\n",
        "        total_registros += 1\n",
        "        fecha, dia_semana = obtener_dia(row[\"timestamp\"])\n",
        "        campeon = row[\"campeon\"]\n",
        "        contar_dias(dia_semana, contador_dia)\n",
        "        contar_campeon(campeon, campeones)\n",
        "        contar_finde(dia_semana, campeon, campeones)\n",
        "        primera_fecha, ultima_fecha = actualizar_fechas(fecha, primera_fecha, ultima_fecha)\n",
        "        actualizar_detalle(dia_semana, campeon, detalle_dias)\n",
        "\n",
        "\n",
        "#Prints\n",
        "\n",
        "dias_max, cantidad_max = dias_max_sesiones(contador_dia)\n",
        "print(\"Día/s con más entrenamientos:\", dias_max, \"(\", cantidad_max, \")\")\n",
        "\n",
        "dias_diferencia = (ultima_fecha - primera_fecha).days\n",
        "print(\"Días entre primer y último entrenamiento:\", dias_diferencia)\n",
        "\n",
        "campeon_top, entrenos_top = campeon_max(campeones)\n",
        "print(\"Campeón que más entrenó:\", campeon_top, \"(\", entrenos_top, \")\")\n",
        "\n",
        "print(\"Promedio de entrenamientos por día:\", promedio_dias(contador_dia))\n",
        "\n",
        "campeon_finde, cant_finde = campeon_max_finde(campeones)\n",
        "print(\"Campeon con mas entrenamientos en el fin de semana:\", campeon_finde, \"(\", cant_finde, \")\")\n",
        "\n",
        "\n",
        "#Generador de archivos\n",
        "\n",
        "generar_csv(campeones)\n",
        "generar_json(total_registros, detalle_dias)\n",
        "\n",
        "print(\"Archivos generados en carpeta 'salida'\")\n"
      ],
      "metadata": {
        "colab": {
          "base_uri": "https://localhost:8080/"
        },
        "id": "pijnvqCrLFOk",
        "outputId": "499d5b69-1632-43f9-dc6f-38be6e649193"
      },
      "execution_count": 5,
      "outputs": [
        {
          "output_type": "stream",
          "name": "stdout",
          "text": [
            "Día/s con más entrenamientos: ['Monday', 'Tuesday', 'Wednesday', 'Thursday'] ( 176 )\n",
            "Días entre primer y último entrenamiento: 74\n",
            "Campeón que más entrenó: Vi ( 126 )\n",
            "Promedio de entrenamientos por día: {'Sunday': 0.142, 'Monday': 0.147, 'Tuesday': 0.147, 'Wednesday': 0.147, 'Thursday': 0.147, 'Friday': 0.138, 'Saturday': 0.133}\n",
            "Campeón con más entrenamientos en fin de semana: Garen ( 40 )\n",
            "\n",
            "✅ Archivos generados en carpeta 'salida'\n"
          ]
        }
      ]
    },
    {
      "cell_type": "code",
      "source": [
        "!git config --global user.name \"donguiboy\"\n",
        "!git config --global user.email \"gonzaloflara@gmail.com\"\n"
      ],
      "metadata": {
        "id": "RebExs8gmNUf"
      },
      "execution_count": 6,
      "outputs": []
    },
    {
      "cell_type": "code",
      "source": [
        "!git init\n",
        "!git remote add origin https://github.com/donguiboy/actividad_2_lenguajes.git\n",
        "!git branch -M main\n"
      ],
      "metadata": {
        "colab": {
          "base_uri": "https://localhost:8080/"
        },
        "id": "uFTrROKzmfbE",
        "outputId": "da7c1e2f-8d56-49a2-8281-6147623cdf74"
      },
      "execution_count": 7,
      "outputs": [
        {
          "output_type": "stream",
          "name": "stdout",
          "text": [
            "\u001b[33mhint: Using 'master' as the name for the initial branch. This default branch name\u001b[m\n",
            "\u001b[33mhint: is subject to change. To configure the initial branch name to use in all\u001b[m\n",
            "\u001b[33mhint: of your new repositories, which will suppress this warning, call:\u001b[m\n",
            "\u001b[33mhint: \u001b[m\n",
            "\u001b[33mhint: \tgit config --global init.defaultBranch <name>\u001b[m\n",
            "\u001b[33mhint: \u001b[m\n",
            "\u001b[33mhint: Names commonly chosen instead of 'master' are 'main', 'trunk' and\u001b[m\n",
            "\u001b[33mhint: 'development'. The just-created branch can be renamed via this command:\u001b[m\n",
            "\u001b[33mhint: \u001b[m\n",
            "\u001b[33mhint: \tgit branch -m <name>\u001b[m\n",
            "Initialized empty Git repository in /content/.git/\n"
          ]
        }
      ]
    }
  ]
}